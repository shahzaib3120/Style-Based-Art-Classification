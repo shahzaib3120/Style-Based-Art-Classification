{
 "cells": [
  {
   "cell_type": "code",
   "execution_count": 2,
   "id": "d5378b37",
   "metadata": {},
   "outputs": [
    {
     "name": "stderr",
     "output_type": "stream",
     "text": [
      "2022-02-10 18:01:49.623884: W tensorflow/stream_executor/platform/default/dso_loader.cc:64] Could not load dynamic library 'libcudart.so.11.0'; dlerror: libcudart.so.11.0: cannot open shared object file: No such file or directory\n",
      "2022-02-10 18:01:49.623950: I tensorflow/stream_executor/cuda/cudart_stub.cc:29] Ignore above cudart dlerror if you do not have a GPU set up on your machine.\n"
     ]
    }
   ],
   "source": [
    "import numpy as np\n",
    "from os.path import join\n",
    "import tensorflow as tf\n",
    "from tensorflow import keras\n",
    "from keras import layers, initializers\n",
    "from keras.initializers import glorot_uniform\n",
    "from keras.layers import Input, Add, Dense, Activation, ZeroPadding2D, BatchNormalization, Flatten, Conv2D, AveragePooling2D, MaxPooling2D\n",
    "from keras.models import Model, load_model\n",
    "from keras.preprocessing import image\n",
    "from keras.preprocessing.image import load_img, img_to_array\n",
    "from keras.utils import layer_utils\n",
    "from keras import metrics\n",
    "from keras.callbacks import ModelCheckpoint, EarlyStopping, CSVLogger\n",
    "import matplotlib.pyplot as plt"
   ]
  },
  {
   "cell_type": "markdown",
   "id": "c246b1b0",
   "metadata": {},
   "source": [
    "# Building Model"
   ]
  },
  {
   "cell_type": "markdown",
   "id": "dd4a804a",
   "metadata": {},
   "source": [
    "### Custom Code"
   ]
  },
  {
   "cell_type": "code",
   "execution_count": null,
   "id": "28dcd255",
   "metadata": {},
   "outputs": [],
   "source": [
    "def identity_block(img, f_size, filters):\n",
    "    F1,F2,F3 = filters\n",
    "    img_shortcut = img\n",
    "    \n",
    "    img = Conv2D(filters=F1, kernel_size=1, strides=(1,1), padding='valid')(img)\n",
    "    img = BatchNormalization(axis=3)(img)\n",
    "    img = Activation('relu')(img)\n",
    "\n",
    "    img = Conv2D(filters=F2, kernel_size=f_size, strides=1, padding=\"same\")(img)\n",
    "    img = BatchNormalization(axis=3)(img)\n",
    "    img = Activation('relu')(img)\n",
    "\n",
    "    img = Conv2D(filters=F3, kernel_size=1, strides=1, padding=\"valid\")(img)\n",
    "    img = BatchNormalization(axis=3)(img)\n",
    "\n",
    "    img = Add()([img, img_shortcut])\n",
    "    img = Activation('relu')(img)\n",
    "\n",
    "    return img"
   ]
  },
  {
   "cell_type": "code",
   "execution_count": null,
   "id": "2cd9f766",
   "metadata": {},
   "outputs": [],
   "source": [
    "def convolutional_block(img, f_size, filters, s=2):\n",
    "    F1,F2,F3 = filters\n",
    "    img_shortcut = img\n",
    "\n",
    "    img = Conv2D(filters=F1, kernel_size=1, strides=s)(img)\n",
    "    img = BatchNormalization(axis=3)(img)\n",
    "    img = Activation('relu')(img)\n",
    "\n",
    "    img = Conv2D(filters=F2, kernel_size=f_size, strides=1, padding=\"same\")(img)\n",
    "    img = BatchNormalization(axis=3)(img)\n",
    "    img = Activation('relu')(img)\n",
    "\n",
    "    img = Conv2D(filters=F3, kernel_size=1, strides=1, padding=\"valid\")(img)\n",
    "    img = BatchNormalization(axis=3)(img)\n",
    "\n",
    "    img_shortcut = Conv2D(F3, 1, s, padding='valid')(img_shortcut)\n",
    "    img = BatchNormalization(axis=3)(img)\n",
    "\n",
    "    img = Add()([img, img_shortcut])\n",
    "    img = Activation('relu')(img)\n",
    "\n",
    "    return img\n"
   ]
  },
  {
   "cell_type": "code",
   "execution_count": null,
   "id": "b4b07b3c",
   "metadata": {},
   "outputs": [],
   "source": [
    "def ResNet50(input_shape=(224,224,3),classes = 25):\n",
    "    img_input = Input(input_shape)\n",
    "\n",
    "    img = ZeroPadding2D((3,3))(img_input)\n",
    "\n",
    "    #1\n",
    "    img = Conv2D(64,7,2)(img)\n",
    "    img = BatchNormalization(axis=3)(img)\n",
    "    img = Activation('relu')(img)\n",
    "    img = MaxPooling2D((3,3),strides=(2,2))(img)\n",
    "\n",
    "    #2\n",
    "    img = convolutional_block(img, 3, [64,64,256])\n",
    "    img = identity_block(img, 3, [64,64,256])\n",
    "    img = identity_block(img, 3, [64,64,256])\n",
    "\n",
    "    #3\n",
    "    img = convolutional_block(img, 3, [128,128,512])\n",
    "    img = identity_block(img, 3, [128,128,512])\n",
    "    img = identity_block(img, 3, [128,128,512])\n",
    "    img = identity_block(img, 3, [128,128,512])\n",
    "    \n",
    "    #4\n",
    "    img = convolutional_block(img, 3, [256,256,1024])\n",
    "    img = identity_block(img, 3, [256,256,1024])\n",
    "    img = identity_block(img, 3, [256,256,1024])\n",
    "    img = identity_block(img, 3, [256,256,1024])\n",
    "    img = identity_block(img, 3, [256,256,1024])\n",
    "    img = identity_block(img, 3, [256,256,1024])\n",
    "\n",
    "    #5\n",
    "    img = convolutional_block(img, 3, [512,512,2048])\n",
    "    img = identity_block(img, 3, [512,512,2048])\n",
    "    img = identity_block(img, 3, [512,512,2048])\n",
    "\n",
    "    #avgpool\n",
    "    img = AveragePooling2D((2,2),name=\"avgpool\")(img)\n",
    "\n",
    "\n",
    "    #output_layer\n",
    "    img = Flatten()(img)\n",
    "    img = Dense(classes, activation='softmax', name='fc' + str(classes), kernel_initializer=glorot_uniform(seed=0))(img)\n",
    "\n",
    "    #model\n",
    "    model = Model(inputs= img_input, outputs= img, name=\"ResNet50\")\n",
    "\n",
    "    return model\n",
    "    \n"
   ]
  },
  {
   "cell_type": "code",
   "execution_count": null,
   "id": "2093feee",
   "metadata": {},
   "outputs": [],
   "source": [
    "#model = ResNet50(((224,224,1))) # FOR HOG FEAUTURES\n",
    "model = ResNet50()"
   ]
  },
  {
   "cell_type": "code",
   "execution_count": null,
   "id": "6ea8319b",
   "metadata": {},
   "outputs": [],
   "source": [
    "import tensorflow as tf\n",
    "print(\"Num GPUs Available: \", len(tf.config.list_physical_devices('GPU')))"
   ]
  },
  {
   "cell_type": "code",
   "execution_count": null,
   "id": "1f0f169d",
   "metadata": {},
   "outputs": [],
   "source": [
    "#model.compile(optimizer=\"adam\", loss='categorical_crossentropy', metrics=['accuracy', metrics.top_k_categorical_accuracy])\n",
    "# tf dataset\n",
    "model.compile(\n",
    "  optimizer='adam',\n",
    "  loss=tf.losses.SparseCategoricalCrossentropy(),\n",
    "  metrics=['accuracy'])"
   ]
  },
  {
   "cell_type": "code",
   "execution_count": null,
   "id": "81ae0bd4",
   "metadata": {},
   "outputs": [],
   "source": [
    "model.summary()"
   ]
  },
  {
   "cell_type": "code",
   "execution_count": null,
   "id": "c322ccdb",
   "metadata": {},
   "outputs": [],
   "source": []
  },
  {
   "cell_type": "markdown",
   "id": "f93eb72f",
   "metadata": {},
   "source": [
    "### Keras Applications"
   ]
  },
  {
   "cell_type": "code",
   "execution_count": 2,
   "id": "5443d290",
   "metadata": {},
   "outputs": [],
   "source": [
    "def initModel(train_layers=1):\n",
    "    base_model = keras.applications.ResNet50(\n",
    "        weights='imagenet',  # Load weights pre-trained on ImageNet.\n",
    "        input_shape=(224, 224, 3),\n",
    "        include_top=False\n",
    "        )\n",
    "    base_model.trainable = False\n",
    "    \n",
    "    for layer in base_model.layers[-train_layers:]: # Hyper-parameter trainable layers in base_model\n",
    "        layer.trainable = True\n",
    "        print(len(layer.trainable_weights))\n",
    "        \n",
    "    trainable = sum([1 for layer in base_model.layers if len(layer.trainable_weights) != 0 ])\n",
    "    trainable = trainable + int(trainable/2)\n",
    "    non_trainable = len(base_model.layers)-trainable\n",
    "    print(\"trainable  \"  + str(trainable) + \"  non_trainable \" +  str(non_trainable))\n",
    "    \n",
    "    \n",
    "#     for layer in base_model.layers:\n",
    "#         print(\">>> \" + str(len(layer.trainable_weights)))\n",
    "    inputs = keras.Input(shape=(224, 224, 3))\n",
    "    inputs = tf.keras.applications.resnet50.preprocess_input(\n",
    "        inputs, data_format=None\n",
    "    )\n",
    "    \n",
    "    data_augmentation = tf.keras.Sequential([\n",
    "      tf.keras.layers.RandomFlip('horizontal'),\n",
    "      tf.keras.layers.RandomRotation(0.2),\n",
    "    ])\n",
    "    inputs = data_augmentation(inputs)\n",
    "    \n",
    "\n",
    "    x = base_model(inputs,training=False)\n",
    "    x = keras.layers.GlobalAveragePooling2D()(x)\n",
    "\n",
    "    outputs = keras.layers.Dense(25, activation='softmax', name='fc' + str(25),kernel_initializer=glorot_uniform(seed=0))(x)\n",
    "\n",
    "    model = keras.Model(inputs, outputs)\n",
    "    return model"
   ]
  },
  {
   "cell_type": "code",
   "execution_count": null,
   "id": "fe11d877",
   "metadata": {},
   "outputs": [],
   "source": [
    "inputs"
   ]
  },
  {
   "cell_type": "code",
   "execution_count": 8,
   "id": "190214c6",
   "metadata": {},
   "outputs": [
    {
     "name": "stdout",
     "output_type": "stream",
     "text": [
      "0\n",
      "trainable  0  non_trainable 175\n"
     ]
    }
   ],
   "source": [
    "model = initModel(1)\n",
    "model.compile(\n",
    "  optimizer='adam',\n",
    "  loss=tf.losses.SparseCategoricalCrossentropy(),\n",
    "  metrics=['accuracy'])"
   ]
  },
  {
   "cell_type": "code",
   "execution_count": 4,
   "id": "4e0a6140",
   "metadata": {},
   "outputs": [
    {
     "name": "stdout",
     "output_type": "stream",
     "text": [
      "Model: \"model\"\n",
      "_________________________________________________________________\n",
      " Layer (type)                Output Shape              Param #   \n",
      "=================================================================\n",
      " input_3 (InputLayer)        [(None, 224, 224, 3)]     0         \n",
      "                                                                 \n",
      " resnet50 (Functional)       (None, 7, 7, 2048)        23587712  \n",
      "                                                                 \n",
      " global_average_pooling2d (G  (None, 2048)             0         \n",
      " lobalAveragePooling2D)                                          \n",
      "                                                                 \n",
      " fc25 (Dense)                (None, 25)                51225     \n",
      "                                                                 \n",
      "=================================================================\n",
      "Total params: 23,638,937\n",
      "Trainable params: 51,225\n",
      "Non-trainable params: 23,587,712\n",
      "_________________________________________________________________\n"
     ]
    }
   ],
   "source": [
    "model.summary()"
   ]
  },
  {
   "cell_type": "markdown",
   "id": "333a7fb8",
   "metadata": {},
   "source": [
    "<h1>Data Collection</h1>"
   ]
  },
  {
   "cell_type": "markdown",
   "id": "448230b6",
   "metadata": {},
   "source": [
    "# Numpy Arrays"
   ]
  },
  {
   "cell_type": "markdown",
   "id": "979c964f",
   "metadata": {},
   "source": [
    "## Training data"
   ]
  },
  {
   "cell_type": "code",
   "execution_count": null,
   "id": "2d9b35ba",
   "metadata": {},
   "outputs": [],
   "source": [
    "import os\n",
    "from os.path import join\n",
    "from skimage.io import imread\n",
    "from skimage.transform import resize\n",
    "from skimage.feature import hog\n",
    "from skimage import exposure\n",
    "use_HOG = True\n",
    "print (\"Using HOG \" , end=\"\")\n",
    "print(\"True\") if use_HOG else print(\"False\")\n",
    "img_size = (224,224) \n",
    "data_path = \"./data/wikipaintings_small/wikipaintings_train\"\n",
    "class_names = os.listdir(data_path)\n",
    "x_train = []\n",
    "y_train = []\n",
    "classes = []\n",
    "for class_name in class_names:\n",
    "    class_path = join(data_path, class_name)\n",
    "    img_names = os.listdir(class_path)\n",
    "    classes.append(class_name)\n",
    "    for img_name in img_names:\n",
    "        img = load_img(join(class_path, img_name),target_size=img_size)\n",
    "        if use_HOG == True :\n",
    "            fd, hog_image = hog(img, orientations=9, pixels_per_cell=(8, 8),cells_per_block=(2, 2), visualize=True, multichannel=True)\n",
    "            img_arr = img_to_array(hog_image)\n",
    "        else:\n",
    "            img_arr = img_to_array(img)\n",
    "            \n",
    "        x_train.append(img_arr)\n",
    "        y_train.append(class_name)\n",
    "x_train = np.array(x_train)\n",
    "y_train = np.array(y_train)\n",
    "x_train = x_train.astype('float32')/255.0\n"
   ]
  },
  {
   "cell_type": "code",
   "execution_count": null,
   "id": "4b33fd63",
   "metadata": {},
   "outputs": [],
   "source": [
    "x_train.shape"
   ]
  },
  {
   "cell_type": "code",
   "execution_count": null,
   "id": "36897af9",
   "metadata": {},
   "outputs": [],
   "source": [
    "from sklearn.preprocessing import LabelBinarizer\n",
    "encoder = LabelBinarizer()\n",
    "transfomed_label = encoder.fit_transform(y_train)\n",
    "print(transfomed_label)\n",
    "transfomed_label.shape"
   ]
  },
  {
   "cell_type": "code",
   "execution_count": null,
   "id": "f0b8b6c8",
   "metadata": {},
   "outputs": [],
   "source": [
    "# from sklearn.preprocessing import LabelEncoder, OneHotEncoder\n",
    "# y=imgs_df['class'].values\n",
    "# print(y[:15])\n",
    "# print(y_train[:15])\n",
    "\n",
    "# y_labelenc = LabelEncoder()\n",
    "# y=y_labelenc.fit_transform(y)\n",
    "\n",
    "# y=y.reshape(-1,1)\n",
    "# onehotenc = OneHotEncoder(categorical_features=[0])\n",
    "# Y=onehotenc.fit_transform(y)\n",
    "# Y.shape"
   ]
  },
  {
   "cell_type": "code",
   "execution_count": null,
   "id": "d3db933d",
   "metadata": {},
   "outputs": [],
   "source": [
    "transformed_label.shape"
   ]
  },
  {
   "cell_type": "markdown",
   "id": "a5ccc502",
   "metadata": {},
   "source": [
    "## Testing data"
   ]
  },
  {
   "cell_type": "code",
   "execution_count": null,
   "id": "fe962fde",
   "metadata": {},
   "outputs": [],
   "source": [
    "import os\n",
    "from os.path import join\n",
    "from keras.preprocessing.image import load_img\n",
    "img_size = (224,224) \n",
    "data_path = \"../rasta/data/wikipaintings_small/wikipaintings_test\"\n",
    "class_names = os.listdir(data_path)\n",
    "x_test = []\n",
    "y_test = []\n",
    "for class_name in class_names:\n",
    "    class_path = join(data_path, class_name)\n",
    "    img_names = os.listdir(class_path)\n",
    "    classes.append(class_name)\n",
    "    for img_name in img_names:\n",
    "        img = load_img(join(class_path, img_name),target_size=img_size)\n",
    "        if use_HOG == True :\n",
    "            fd, hog_image = hog(img, orientations=9, pixels_per_cell=(8, 8),cells_per_block=(2, 2), visualize=True, multichannel=True)\n",
    "            img_arr = img_to_array(hog_image)\n",
    "        else:\n",
    "            img_arr = img_to_array(img)\n",
    "        \n",
    "        x_test.append(img_arr)\n",
    "        y_test.append(class_name)\n",
    "x_test = np.array(x_train)\n",
    "y_test = np.array(y_train)\n",
    "x_test = x_train.astype('float32')/255.0\n"
   ]
  },
  {
   "cell_type": "code",
   "execution_count": null,
   "id": "bc1554fe",
   "metadata": {},
   "outputs": [],
   "source": [
    "from sklearn.preprocessing import LabelBinarizer\n",
    "encoder = LabelBinarizer()\n",
    "y_test = encoder.fit_transform(y_test)\n",
    "print(y_test)\n",
    "y_test.shape"
   ]
  },
  {
   "cell_type": "code",
   "execution_count": null,
   "id": "3f4e5c13",
   "metadata": {},
   "outputs": [],
   "source": []
  },
  {
   "cell_type": "code",
   "execution_count": null,
   "id": "f97234d8",
   "metadata": {},
   "outputs": [],
   "source": []
  },
  {
   "cell_type": "markdown",
   "id": "09c536df",
   "metadata": {},
   "source": [
    "# TF DATASETS "
   ]
  },
  {
   "cell_type": "code",
   "execution_count": 9,
   "id": "ecaf4c58",
   "metadata": {},
   "outputs": [],
   "source": [
    "def get_datasets(data_dir=\"../rasta/data/wikipaintings_small\", img_size=(224,224),batch_size=32):\n",
    "   \n",
    "    #training\n",
    "    \n",
    "    train_ds = tf.keras.utils.image_dataset_from_directory(\n",
    "    join(data_dir, \"wikipaintings_train\"),\n",
    "    image_size=img_size,\n",
    "    batch_size=batch_size)\n",
    "    \n",
    "    for image_batch, labels_batch in train_ds:\n",
    "        print(image_batch.shape)\n",
    "        print(labels_batch.shape)\n",
    "        break\n",
    "    \n",
    "    val_ds = tf.keras.utils.image_dataset_from_directory(\n",
    "    join(data_dir, \"wikipaintings_val\"),\n",
    "    image_size=img_size,\n",
    "    batch_size=batch_size)\n",
    "    \n",
    "    for image_batch, labels_batch in val_ds:\n",
    "        print(image_batch.shape)\n",
    "        print(labels_batch.shape)\n",
    "        break\n",
    "    \n",
    "    test_ds = tf.keras.utils.image_dataset_from_directory(\n",
    "    join(data_dir, \"wikipaintings_test\"),\n",
    "    image_size=img_size,\n",
    "    batch_size=batch_size)\n",
    "\n",
    "    for image_batch, labels_batch in test_ds:\n",
    "        print(image_batch.shape)\n",
    "        print(labels_batch.shape)\n",
    "        break    \n",
    "    \n",
    "\n",
    "########################################################################################\n",
    "\n",
    "#     normalization_layer = tf.keras.layers.Rescaling(1./255)\n",
    "#     normalized_train_ds = train_ds.map(lambda x, y: (normalization_layer(x), y))\n",
    "\n",
    "########################################################################################\n",
    "\n",
    "#     class_names = train_ds.class_names\n",
    "\n",
    "#     plt.figure(figsize=(10, 10))\n",
    "#     for images, labels in train_ds.take(1):\n",
    "#           for i in range(9):\n",
    "#                 ax = plt.subplot(3, 3, i + 1)\n",
    "#                 plt.imshow(images[i].numpy().astype(\"uint8\"))\n",
    "#                 plt.title(class_names[labels[i]])\n",
    "#                 plt.axis(\"off\")\n",
    "    return train_ds,val_ds,test_ds\n",
    "#     return normalized_train_ds, normalized_val_ds"
   ]
  },
  {
   "cell_type": "code",
   "execution_count": 10,
   "id": "a7f798d0",
   "metadata": {},
   "outputs": [
    {
     "name": "stdout",
     "output_type": "stream",
     "text": [
      "Found 250 files belonging to 25 classes.\n",
      "(32, 224, 224, 3)\n",
      "(32,)\n",
      "Found 248 files belonging to 25 classes.\n",
      "(32, 224, 224, 3)\n",
      "(32,)\n",
      "Found 250 files belonging to 25 classes.\n",
      "(32, 224, 224, 3)\n",
      "(32,)\n"
     ]
    }
   ],
   "source": [
    "# train_ds, val_ds = get_datasets()\n",
    "train_ds,val_ds,test_ds = get_datasets()"
   ]
  },
  {
   "cell_type": "markdown",
   "id": "033d12bb",
   "metadata": {},
   "source": [
    "## Model Fit"
   ]
  },
  {
   "cell_type": "code",
   "execution_count": 11,
   "id": "f478f250",
   "metadata": {
    "scrolled": false
   },
   "outputs": [
    {
     "name": "stdout",
     "output_type": "stream",
     "text": [
      "Epoch 1/10\n",
      "8/8 [==============================] - ETA: 0s - loss: 3.6341 - accuracy: 0.1200\n",
      "Epoch 00001: val_accuracy improved from -inf to 0.13710, saving model to my_models\\pretrained_1unnorm_1.hdf5\n",
      "8/8 [==============================] - 55s 7s/step - loss: 3.6341 - accuracy: 0.1200 - val_loss: 3.3801 - val_accuracy: 0.1371\n",
      "Epoch 2/10\n",
      "8/8 [==============================] - ETA: 0s - loss: 2.0349 - accuracy: 0.4440\n",
      "Epoch 00002: val_accuracy improved from 0.13710 to 0.20968, saving model to my_models\\pretrained_1unnorm_1.hdf5\n",
      "8/8 [==============================] - 50s 7s/step - loss: 2.0349 - accuracy: 0.4440 - val_loss: 3.1011 - val_accuracy: 0.2097\n",
      "Epoch 3/10\n",
      "8/8 [==============================] - ETA: 0s - loss: 1.2270 - accuracy: 0.6920\n",
      "Epoch 00003: val_accuracy improved from 0.20968 to 0.23387, saving model to my_models\\pretrained_1unnorm_1.hdf5\n",
      "8/8 [==============================] - 52s 7s/step - loss: 1.2270 - accuracy: 0.6920 - val_loss: 2.9910 - val_accuracy: 0.2339\n",
      "Epoch 4/10\n",
      "8/8 [==============================] - ETA: 0s - loss: 0.7633 - accuracy: 0.8360\n",
      "Epoch 00004: val_accuracy improved from 0.23387 to 0.24597, saving model to my_models\\pretrained_1unnorm_1.hdf5\n",
      "8/8 [==============================] - 53s 7s/step - loss: 0.7633 - accuracy: 0.8360 - val_loss: 3.0256 - val_accuracy: 0.2460\n",
      "Epoch 5/10\n",
      "8/8 [==============================] - ETA: 0s - loss: 0.4840 - accuracy: 0.9360\n",
      "Epoch 00005: val_accuracy improved from 0.24597 to 0.25403, saving model to my_models\\pretrained_1unnorm_1.hdf5\n",
      "8/8 [==============================] - 51s 7s/step - loss: 0.4840 - accuracy: 0.9360 - val_loss: 3.0652 - val_accuracy: 0.2540\n",
      "Epoch 6/10\n",
      "8/8 [==============================] - ETA: 0s - loss: 0.3313 - accuracy: 0.9840\n",
      "Epoch 00006: val_accuracy improved from 0.25403 to 0.27823, saving model to my_models\\pretrained_1unnorm_1.hdf5\n",
      "8/8 [==============================] - 49s 6s/step - loss: 0.3313 - accuracy: 0.9840 - val_loss: 3.1053 - val_accuracy: 0.2782\n",
      "Epoch 7/10\n",
      "8/8 [==============================] - ETA: 0s - loss: 0.2379 - accuracy: 1.0000\n",
      "Epoch 00007: val_accuracy did not improve from 0.27823\n",
      "8/8 [==============================] - 49s 6s/step - loss: 0.2379 - accuracy: 1.0000 - val_loss: 3.1236 - val_accuracy: 0.2702\n",
      "Epoch 8/10\n",
      "8/8 [==============================] - ETA: 0s - loss: 0.1757 - accuracy: 1.0000\n",
      "Epoch 00008: val_accuracy improved from 0.27823 to 0.28226, saving model to my_models\\pretrained_1unnorm_1.hdf5\n",
      "8/8 [==============================] - 49s 6s/step - loss: 0.1757 - accuracy: 1.0000 - val_loss: 3.1652 - val_accuracy: 0.2823\n"
     ]
    }
   ],
   "source": [
    "# model.fit(tain_img, labels, )\n",
    "initial_epochs = 10\n",
    "# saving model after each epoch\n",
    "metric = 'val_accuracy'\n",
    "filepath=\"my_models/pretrained_1unnorm_1.hdf5\"\n",
    "checkpoint = ModelCheckpoint(filepath, monitor=metric, verbose=1, save_best_only=True, mode='max')\n",
    "earlystopping = EarlyStopping(monitor =\"val_loss\", \n",
    "                                        mode =\"min\", patience = 5, \n",
    "                                        restore_best_weights = True)\n",
    "# csv_logger = CSVLogger('logs/pretrained_1unnorm.log',separator=\",\", append=True)\n",
    "callbacks_list = [checkpoint,earlystopping]\n",
    "\n",
    "history=model.fit(train_ds, validation_data=val_ds,epochs=initial_epochs,callbacks=callbacks_list, verbose=1)\n",
    "#model.fit(train_ds, validation_data=val_ds,epochs=1, verbose =1)"
   ]
  },
  {
   "cell_type": "code",
   "execution_count": 12,
   "id": "503ab814",
   "metadata": {},
   "outputs": [
    {
     "name": "stdout",
     "output_type": "stream",
     "text": [
      "8/8 [==============================] - 26s 3s/step - loss: 3.1511 - accuracy: 0.1800\n"
     ]
    }
   ],
   "source": [
    "preds = model.evaluate(test_ds)"
   ]
  },
  {
   "cell_type": "code",
   "execution_count": 13,
   "id": "e46ec374",
   "metadata": {},
   "outputs": [
    {
     "data": {
      "image/png": "[encoded data removed]",
      "text/plain": [
       "<Figure size 576x576 with 2 Axes>"
      ]
     },
     "metadata": {
      "needs_background": "light"
     },
     "output_type": "display_data"
    }
   ],
   "source": [
    "acc = history.history['accuracy']\n",
    "val_acc = history.history['val_accuracy']\n",
    "\n",
    "loss = history.history['loss']\n",
    "val_loss = history.history['val_loss']\n",
    "\n",
    "plt.figure(figsize=(8, 8))\n",
    "plt.subplot(2, 1, 1)\n",
    "plt.plot(acc, label='Training Accuracy')\n",
    "plt.plot(val_acc, label='Validation Accuracy')\n",
    "plt.legend(loc='lower right')\n",
    "plt.ylabel('Accuracy')\n",
    "plt.ylim([min(plt.ylim()),1])\n",
    "plt.title('Training and Validation Accuracy')\n",
    "\n",
    "plt.subplot(2, 1, 2)\n",
    "plt.plot(loss, label='Training Loss')\n",
    "plt.plot(val_loss, label='Validation Loss')\n",
    "plt.legend(loc='upper right')\n",
    "plt.ylabel('Cross Entropy')\n",
    "plt.ylim([0,1.0])\n",
    "plt.title('Training and Validation Loss')\n",
    "plt.xlabel('epoch')\n",
    "plt.show()"
   ]
  },
  {
   "cell_type": "markdown",
   "id": "fef85332",
   "metadata": {},
   "source": [
    "### Augmentation Testa Data\n"
   ]
  },
  {
   "cell_type": "code",
   "execution_count": null,
   "id": "b5ab9d26",
   "metadata": {},
   "outputs": [],
   "source": []
  },
  {
   "cell_type": "code",
   "execution_count": null,
   "id": "cafe1da0",
   "metadata": {},
   "outputs": [],
   "source": [
    "def imagenet_preprocess_input(x):\n",
    "    # 'RGB'->'BGR'\n",
    "    x = x[:, :, ::-1]\n",
    "    # Zero-center by mean pixel\n",
    "    x[:, :, 0] -= 103.939\n",
    "    x[:, :, 1] -= 116.779\n",
    "    x[:, :, 2] -= 123.68\n",
    "    return x"
   ]
  },
  {
   "cell_type": "code",
   "execution_count": null,
   "id": "1a2bdc58",
   "metadata": {},
   "outputs": [],
   "source": [
    "test_ds = test_ds.map(\n",
    "  lambda x, y: (data_augmentation(x, training=True), y))\n",
    "test_ds = test_ds.map(\n",
    "  lambda x, y: (imagenet_preprocess_input(x), y))\n",
    "preds = model.evaluate(test_ds)"
   ]
  },
  {
   "cell_type": "code",
   "execution_count": null,
   "id": "00f1e192",
   "metadata": {},
   "outputs": [],
   "source": [
    "model.save(\"my_models/pretrained_1Aug_1HOG_0.h5\")"
   ]
  },
  {
   "cell_type": "markdown",
   "id": "1fe157b6",
   "metadata": {},
   "source": [
    "## Fine Tuning"
   ]
  },
  {
   "cell_type": "code",
   "execution_count": null,
   "id": "2542191b",
   "metadata": {},
   "outputs": [],
   "source": [
    "# model = load_model(\"my_models/pretrained_1Aug_1HOG_0.h5\")\n",
    "# model.summary()"
   ]
  },
  {
   "cell_type": "code",
   "execution_count": null,
   "id": "6be53abc",
   "metadata": {},
   "outputs": [],
   "source": [
    "base_model.trainable = True\n",
    "print(\"Number of layers in the base model: \", len(base_model.layers))\n",
    "# fine tune from this layer onwards\n",
    "fine_tune_at = 100\n",
    "\n",
    "for layer in base_model.layers[:fine_tune_at]:\n",
    "    layer.trainable = False\n",
    "    \n",
    "model.compile(\n",
    "  optimizer=keras.optimizers.RMSprop(1e-5),\n",
    "  loss=tf.losses.SparseCategoricalCrossentropy(),\n",
    "  metrics=['accuracy'])\n",
    "model.summary()"
   ]
  },
  {
   "cell_type": "code",
   "execution_count": null,
   "id": "41d1d0bf",
   "metadata": {},
   "outputs": [],
   "source": [
    "fine_tune_epochs = 10\n",
    "total_epochs =  initial_epochs + fine_tune_epochs\n",
    "metric = 'val_accuracy'\n",
    "filepath=\"my_models/pretrained_1Aug_1HOG_0_fineTune.hdf5\"\n",
    "checkpoint = ModelCheckpoint(filepath, monitor=metric, verbose=1, save_best_only=True, mode='max')\n",
    "earlystopping = EarlyStopping(monitor =\"val_loss\", \n",
    "                                        mode =\"min\", patience = 3, \n",
    "                                        restore_best_weights = True)\n",
    "# csv_logger = CSVLogger('pretrained_1Aug_1HOG_0_fineTune.log',separator=\",\", append=True)\n",
    "callbacks_list = [checkpoint,earlystopping]\n",
    "\n",
    "history_fine = model.fit(train_ds,\n",
    "                         validation_data=val_ds,\n",
    "                         epochs=total_epochs,\n",
    "                         callbacks=callbacks_list,\n",
    "                         initial_epoch=history.epoch[-1],\n",
    "                         verbose=1)"
   ]
  },
  {
   "cell_type": "markdown",
   "id": "ebfd4d03",
   "metadata": {},
   "source": [
    "### FINE-TUNE PY PLOTS"
   ]
  },
  {
   "cell_type": "code",
   "execution_count": null,
   "id": "796db3d9",
   "metadata": {},
   "outputs": [],
   "source": [
    "acc += history_fine.history['accuracy']\n",
    "val_acc += history_fine.history['val_accuracy']\n",
    "\n",
    "loss += history_fine.history['loss']\n",
    "val_loss += history_fine.history['val_loss']"
   ]
  },
  {
   "cell_type": "code",
   "execution_count": null,
   "id": "f3fa414e",
   "metadata": {},
   "outputs": [],
   "source": [
    "plt.figure(figsize=(8, 8))\n",
    "plt.subplot(2, 1, 1)\n",
    "plt.plot(acc, label='Training Accuracy')\n",
    "plt.plot(val_acc, label='Validation Accuracy')\n",
    "plt.ylim([0.8, 1])\n",
    "plt.plot([initial_epochs-1,initial_epochs-1],\n",
    "          plt.ylim(), label='Start Fine Tuning')\n",
    "plt.legend(loc='lower right')\n",
    "plt.title('Training and Validation Accuracy')\n",
    "\n",
    "plt.subplot(2, 1, 2)\n",
    "plt.plot(loss, label='Training Loss')\n",
    "plt.plot(val_loss, label='Validation Loss')\n",
    "plt.ylim([0, 1.0])\n",
    "plt.plot([initial_epochs-1,initial_epochs-1],\n",
    "         plt.ylim(), label='Start Fine Tuning')\n",
    "plt.legend(loc='upper right')\n",
    "plt.title('Training and Validation Loss')\n",
    "plt.xlabel('epoch')\n",
    "plt.show()"
   ]
  },
  {
   "cell_type": "markdown",
   "id": "4763abdc",
   "metadata": {},
   "source": [
    "### FINE TUNE EVALUATION"
   ]
  },
  {
   "cell_type": "code",
   "execution_count": null,
   "id": "1bce0665",
   "metadata": {},
   "outputs": [],
   "source": [
    "loss, accuracy = model.evaluate(test_dataset)\n",
    "print('Test accuracy :', accuracy)"
   ]
  },
  {
   "cell_type": "markdown",
   "id": "6e087f43",
   "metadata": {},
   "source": [
    "### EVALUATION VISUALIZATION"
   ]
  },
  {
   "cell_type": "code",
   "execution_count": null,
   "id": "85f94f9e",
   "metadata": {},
   "outputs": [],
   "source": [
    "# Retrieve a batch of images from the test set\n",
    "image_batch, label_batch = test_dataset.as_numpy_iterator().next()\n",
    "predictions = model.predict_on_batch(image_batch).flatten()\n",
    "\n",
    "# Apply a sigmoid since our model returns logits\n",
    "predictions = tf.nn.sigmoid(predictions)\n",
    "predictions = tf.where(predictions < 0.5, 0, 1)\n",
    "\n",
    "print('Predictions:\\n', predictions.numpy())\n",
    "print('Labels:\\n', label_batch)\n",
    "\n",
    "plt.figure(figsize=(10, 10))\n",
    "for i in range(9):\n",
    "    ax = plt.subplot(3, 3, i + 1)\n",
    "    plt.imshow(image_batch[i].astype(\"uint8\"))\n",
    "    plt.title(class_names[predictions[i]])\n",
    "    plt.axis(\"off\")"
   ]
  },
  {
   "cell_type": "code",
   "execution_count": null,
   "id": "bd00b7cb",
   "metadata": {},
   "outputs": [],
   "source": []
  },
  {
   "cell_type": "code",
   "execution_count": null,
   "id": "5fa08530",
   "metadata": {},
   "outputs": [],
   "source": []
  }
 ],
 "metadata": {
  "interpreter": {
   "hash": "9ddfba760c93d0781cb88c4db9a31eb68ca4e1616821530f19d735f356a5c9ec"
  },
  "kernelspec": {
   "display_name": "Python (art)",
   "language": "python",
   "name": "myenv"
  },
  "language_info": {
   "codemirror_mode": {
    "name": "ipython",
    "version": 3
   },
   "file_extension": ".py",
   "mimetype": "text/x-python",
   "name": "python",
   "nbconvert_exporter": "python",
   "pygments_lexer": "ipython3",
   "version": "3.9.7"
  }
 },
 "nbformat": 4,
 "nbformat_minor": 5
}
